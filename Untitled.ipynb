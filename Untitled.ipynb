{
 "cells": [
  {
   "cell_type": "markdown",
   "id": "911b3a77-1905-4d00-be5d-4a96a5584c48",
   "metadata": {},
   "source": [
    "# SAE 24\n",
    "\n",
    "Ce SAE est une prise en main de scapy, une bibliotheque python. Cela nous permet donc d'appliquer la théorie vu en cours avec les trames/paquets etc."
   ]
  },
  {
   "cell_type": "code",
   "execution_count": 13,
   "id": "7c673dd8-d4fc-426e-b09f-25e348031c2f",
   "metadata": {
    "scrolled": true
   },
   "outputs": [
    {
     "name": "stdout",
     "output_type": "stream",
     "text": [
      "version    : BitField  (4 bits)                  = ('4')\n",
      "ihl        : BitField  (4 bits)                  = ('None')\n",
      "tos        : XByteField                          = ('0')\n",
      "len        : ShortField                          = ('None')\n",
      "id         : ShortField                          = ('1')\n",
      "flags      : FlagsField                          = ('<Flag 0 ()>')\n",
      "frag       : BitField  (13 bits)                 = ('0')\n",
      "ttl        : ByteField                           = ('64')\n",
      "proto      : ByteEnumField                       = ('0')\n",
      "chksum     : XShortField                         = ('None')\n",
      "src        : SourceIPField                       = ('None')\n",
      "dst        : DestIPField                         = ('None')\n",
      "options    : PacketListField                     = ('[]')\n"
     ]
    }
   ],
   "source": [
    "ls(IP)\n",
    "#affiche les champs IP"
   ]
  },
  {
   "cell_type": "code",
   "execution_count": 14,
   "id": "c609ab26-8be0-43ae-9e6a-a1d8c3ec0c8f",
   "metadata": {},
   "outputs": [
    {
     "name": "stdout",
     "output_type": "stream",
     "text": [
      "IP / UDP 127.0.0.1:domain > 127.0.0.1:domain \n",
      "\n",
      "###[ IP ]### \n",
      "  version   = 4\n",
      "  ihl       = None\n",
      "  tos       = 0x0\n",
      "  len       = None\n",
      "  id        = 1\n",
      "  flags     = \n",
      "  frag      = 0\n",
      "  ttl       = 64\n",
      "  proto     = udp\n",
      "  chksum    = None\n",
      "  src       = 127.0.0.1\n",
      "  dst       = 127.0.0.1\n",
      "  \\options   \\\n",
      "###[ UDP ]### \n",
      "     sport     = domain\n",
      "     dport     = domain\n",
      "     len       = None\n",
      "     chksum    = None\n",
      "\n"
     ]
    }
   ],
   "source": [
    "paquet1=IP()/UDP() #Fabrique un paquet avec les couches IP et UDP\n",
    "print(paquet1.summary(),\"\\n\") #affichage du paquet mais la version raccourcie\n",
    "\n",
    "paquet1.show() #paquet entier/détaillé"
   ]
  },
  {
   "cell_type": "code",
   "execution_count": 15,
   "id": "07b45692-5873-4de1-aa81-cc1604654a85",
   "metadata": {},
   "outputs": [
    {
     "name": "stdout",
     "output_type": "stream",
     "text": [
      "###[ IP ]### \n",
      "  version   = 4\n",
      "  ihl       = None\n",
      "  tos       = 0x0\n",
      "  len       = None\n",
      "  id        = 1\n",
      "  flags     = \n",
      "  frag      = 0\n",
      "  ttl       = 64\n",
      "  proto     = udp\n",
      "  chksum    = None\n",
      "  src       = 192.168.1.1\n",
      "  dst       = 192.168.1.254\n",
      "  \\options   \\\n",
      "###[ UDP ]### \n",
      "     sport     = domain\n",
      "     dport     = domain\n",
      "     len       = None\n",
      "     chksum    = None\n",
      "\n",
      "###[ IP ]### \n",
      "  version   = 4\n",
      "  ihl       = 5\n",
      "  tos       = 0x0\n",
      "  len       = 28\n",
      "  id        = 1\n",
      "  flags     = \n",
      "  frag      = 0\n",
      "  ttl       = 64\n",
      "  proto     = udp\n",
      "  chksum    = 0xf680\n",
      "  src       = 192.168.1.1\n",
      "  dst       = 192.168.1.254\n",
      "  \\options   \\\n",
      "###[ UDP ]### \n",
      "     sport     = domain\n",
      "     dport     = domain\n",
      "     len       = 8\n",
      "     chksum    = 0x7b24\n",
      "\n"
     ]
    }
   ],
   "source": [
    "IPs='192.168.1.1'\n",
    "IPd='192.168.1.254'\n",
    "paquet2=IP(src=IPs, dst=IPd)/UDP() #On définie les ips destination et source pour le paquet\n",
    "paquet2.show()\n",
    "paquet2.show2()"
   ]
  },
  {
   "cell_type": "code",
   "execution_count": 16,
   "id": "14b44456-ac24-4d08-b493-a1b1e8ef43b9",
   "metadata": {},
   "outputs": [
    {
     "name": "stdout",
     "output_type": "stream",
     "text": [
      "###[ Ethernet ]### \n",
      "  dst       = 00:0A:1F:3B:4E:64\n",
      "  src       = 11:22:33:44:55:66\n",
      "  type      = IPv4\n",
      "###[ IP ]### \n",
      "     version   = 4\n",
      "     ihl       = None\n",
      "     tos       = 0x0\n",
      "     len       = None\n",
      "     id        = 1\n",
      "     flags     = \n",
      "     frag      = 0\n",
      "     ttl       = 64\n",
      "     proto     = tcp\n",
      "     chksum    = None\n",
      "     src       = 192.168.1.1\n",
      "     dst       = Net(\"www.univ-pau.fr/32\")\n",
      "     \\options   \\\n",
      "###[ TCP ]### \n",
      "        sport     = ftp_data\n",
      "        dport     = www_http\n",
      "        seq       = 0\n",
      "        ack       = 0\n",
      "        dataofs   = None\n",
      "        reserved  = 0\n",
      "        flags     = SA\n",
      "        window    = 8192\n",
      "        chksum    = None\n",
      "        urgptr    = 0\n",
      "        options   = ''\n",
      "###[ Raw ]### \n",
      "           load      = 'C est vraiment bien Scapy'\n",
      "\n",
      "###[ Ethernet ]### \n",
      "  dst       = 00:0a:1f:3b:4e:64\n",
      "  src       = 11:22:33:44:55:66\n",
      "  type      = IPv4\n",
      "###[ IP ]### \n",
      "     version   = 4\n",
      "     ihl       = 5\n",
      "     tos       = 0x0\n",
      "     len       = 65\n",
      "     id        = 1\n",
      "     flags     = \n",
      "     frag      = 0\n",
      "     ttl       = 64\n",
      "     proto     = tcp\n",
      "     chksum    = 0x59de\n",
      "     src       = 192.168.1.1\n",
      "     dst       = 194.167.156.135\n",
      "     \\options   \\\n",
      "###[ TCP ]### \n",
      "        sport     = ftp_data\n",
      "        dport     = www_http\n",
      "        seq       = 0\n",
      "        ack       = 0\n",
      "        dataofs   = 5\n",
      "        reserved  = 0\n",
      "        flags     = SA\n",
      "        window    = 8192\n",
      "        chksum    = 0x7857\n",
      "        urgptr    = 0\n",
      "        options   = []\n",
      "###[ Raw ]### \n",
      "           load      = 'C est vraiment bien Scapy'\n",
      "\n"
     ]
    }
   ],
   "source": [
    "MACs='11:22:33:44:55:66'\n",
    "MACd='00:0A:1F:3B:4E:64'\n",
    "IPs='192.168.1.1'\n",
    "IPd='www.univ-pau.fr'\n",
    "frm=Ether(src=MACs, dst=MACd)/IP(src=IPs, dst=IPd)/TCP(flags='SA')/\"C est vraiment bien Scapy\" #on ajoute des infos, mac s, mac d, ips et meme de la donnée\n",
    "frm.show()\n",
    "frm.show2()"
   ]
  },
  {
   "cell_type": "code",
   "execution_count": 3,
   "id": "01b0d10d-99a4-4d8f-91fb-a01aaa81150f",
   "metadata": {},
   "outputs": [
    {
     "name": "stdout",
     "output_type": "stream",
     "text": [
      "\n",
      "Sent 1 packets.\n",
      "."
     ]
    }
   ],
   "source": [
    "from scapy.all import *\n",
    "\n",
    "ping=IP(dst='10.2.12.4')/ICMP()/\"On peut ajouter ici des données à émettre avec le ping\"\n",
    "\n",
    "send(ping) #on envoie le paquet, il faut définir une interface pour que ça marche"
   ]
  },
  {
   "cell_type": "code",
   "execution_count": 4,
   "id": "09b08257-3973-47da-a106-2d946a6d3d76",
   "metadata": {},
   "outputs": [
    {
     "name": "stdout",
     "output_type": "stream",
     "text": [
      "fail 1: IP / ICMP 192.168.1.164 > 10.2.12.4 echo-request 0 / Raw\n",
      "fail 1: IP / ICMP 192.168.1.164 > 10.2.12.4 echo-request 0 / Raw\n",
      "fail 1: IP / ICMP 192.168.1.164 > 10.2.12.4 echo-request 0 / Raw\n",
      "fail 1: IP / ICMP 192.168.1.164 > 10.2.12.4 echo-request 0 / Raw\n",
      "fail 1: IP / ICMP 192.168.1.164 > 10.2.12.4 echo-request 0 / Raw\n",
      "fail 1: IP / ICMP 192.168.1.164 > 10.2.12.4 echo-request 0 / Raw\n",
      "fail 1: IP / ICMP 192.168.1.164 > 10.2.12.4 echo-request 0 / Raw\n",
      "fail 1: IP / ICMP 192.168.1.164 > 10.2.12.4 echo-request 0 / Raw\n",
      "fail 1: IP / ICMP 192.168.1.164 > 10.2.12.4 echo-request 0 / Raw\n",
      "fail 1: IP / ICMP 192.168.1.164 > 10.2.12.4 echo-request 0 / Raw\n",
      "        \n",
      "Sent 10 packets, received 0 packets. 0.0% hits.\n"
     ]
    }
   ],
   "source": [
    "from scapy.all import *\n",
    "\n",
    "ping=IP(dst='10.2.12.4')/ICMP()/\"On peut ajouter ici des données à émettre avec le ping\"\n",
    "ok, nonok = srloop(ping, count=10, inter=1) #pour faire looper"
   ]
  },
  {
   "cell_type": "code",
   "execution_count": null,
   "id": "a2661831-4cfa-4884-8d92-77a6abf54ed2",
   "metadata": {},
   "outputs": [],
   "source": [
    "#IPV6\n",
    "from scapy.all import *\n",
    "\n",
    "ICMP_types={ 0 : 'Echo-Reply', 3 : 'Destination Unreachable', 8 : 'Echo'}\n",
    "\n",
    "def print_icmp (packet) :\n",
    "    type=packet[ICMP].type\n",
    "    ips=packet[IP].src\n",
    "    ipd=packet[IP].dst\n",
    "    if ips==iface_ip :\n",
    "        print(f\"Emission d'un paquet ICMP {ICMP_types[type]} vers {ipd}\")\n",
    "    else :\n",
    "        print(f\"Réception d'un paquet ICMP {ICMP_types[type]} en provenance de {ips}\")\n",
    "        \n",
    "iface_ip=get_if_addr(conf.iface) #defini interface de manière auto\n",
    "sniff(filter=\"icmp\", prn=print_icmp, store=0, iface='en0', count=4) #lance un sniff en temps réel, utilise la fonction ci dessus pour l'affichage"
   ]
  },
  {
   "cell_type": "code",
   "execution_count": 9,
   "id": "2ce3fff4-7a6c-46c5-900d-0b087989ba46",
   "metadata": {},
   "outputs": [
    {
     "name": "stdout",
     "output_type": "stream",
     "text": [
      "On commence le 'sniffing' sur la carte wlp0s20f3:\n",
      "\n",
      "\n",
      "Ether / ARP who has 192.168.1.164 says 192.168.1.254 / Padding\n",
      "Ether / ARP is at d4:e9:8a:ad:58:b3 says 192.168.1.164\n",
      "Ether / ARP who has 192.168.1.254 says 0.0.0.0 / Padding\n",
      "Ether / ARP who has 192.168.1.254 says 0.0.0.0 / Padding\n"
     ]
    },
    {
     "data": {
      "text/plain": [
       "<Sniffed: TCP:0 UDP:0 ICMP:0 Other:0>"
      ]
     },
     "execution_count": 9,
     "metadata": {},
     "output_type": "execute_result"
    }
   ],
   "source": [
    "#IPV4\n",
    "from scapy.all import*\n",
    "\n",
    "\n",
    "ARP_operation={ 1 : 'ARP-Request', 2 : 'ARP-Reply'}\n",
    "\n",
    "def print_icmpv4 (trame) :\n",
    "   print(trame.summary())\n",
    "   op = trame[ARP].op\n",
    "   if (op==1 or op==2):\n",
    "       print(f\"TYPE PACKET ARP: {ARP_operation[op]}\")\n",
    "       print(f\"Ethernet: MAC Source: {trame[0].src}\")\n",
    "       print(f\"Ethernet: MAC Destination : {trame[0].dst}\")\n",
    "       print (\"\\n\")\n",
    "   else:\n",
    "       print(f\"Ethernet: MAC Source: {trame[0].src}\")\n",
    "       print(f\"Ethernet: MAC Destination : {trame[0].dst}\")\n",
    "       print(f\"IPv4 : IP Source: {trame[1].src}\")\n",
    "       print(f\"IPv4 : IP Destination: {trame[1].dst}\")\n",
    "       print (\"\\n\")\n",
    "\n",
    "\n",
    "carte=conf.iface\n",
    "\n",
    "\n",
    "print(f\"On commence le 'sniffing' sur la carte {carte}:\")\n",
    "print(\"\\n\")\n",
    "sniff(filter=\"arp\", prn=lambda x:x.summary(), store=0, iface=carte, count=4)"
   ]
  },
  {
   "cell_type": "code",
   "execution_count": 12,
   "id": "2700924b-7d88-45d1-80f2-2963c2547067",
   "metadata": {},
   "outputs": [
    {
     "name": "stdout",
     "output_type": "stream",
     "text": [
      "User : touriste\n",
      "\n",
      "Password : 3aboqphie=3qbc!\n",
      "\n"
     ]
    }
   ],
   "source": [
    "from scapy.all import*\n",
    "pcap_file = 'ftp-total.pcapng'\n",
    "packet = rdpcap(pcap_file)\n",
    "\n",
    "login_final = \"\"\n",
    "pwd_final = \"\"\n",
    "\n",
    "for data in packet:\n",
    "    if TCP in data:\n",
    "        if data.haslayer(Raw):\n",
    "            if data[TCP].dport == 21: #port des communications ftp\n",
    "                decode_data = str(data[Raw].load.decode('UTF8'))\n",
    "                \n",
    "                #print(decode_data)\n",
    "                #print(decode_data.find('Password'))\n",
    "                \n",
    "                \n",
    "                if \"USER\" in decode_data:\n",
    "                    val = decode_data.split(\" \")\n",
    "                    login_final = val[1]\n",
    "                    \n",
    "                if \"PASS\" in decode_data:\n",
    "                    val_pass = decode_data.split(\" \")\n",
    "                    pwd_final = val_pass[1]\n",
    "\n",
    "\n",
    "print(\"User :\",login_final)\n",
    "print(\"Password :\",pwd_final)\n"
   ]
  },
  {
   "cell_type": "code",
   "execution_count": 18,
   "id": "34a113ef-4f4e-4f12-8a64-9c50d782ab76",
   "metadata": {},
   "outputs": [
    {
     "name": "stdout",
     "output_type": "stream",
     "text": [
      "Login : marie\n",
      "Password : poppins\n"
     ]
    }
   ],
   "source": [
    "from scapy.all import*\n",
    "pcap_file = 'telnet-total.pcapng'\n",
    "packet = rdpcap(pcap_file)\n",
    "\n",
    "\n",
    "#flags permettant de demarrer/stopper le recherche\n",
    "login = 0\n",
    "password = 0\n",
    "\n",
    "login_final = \"\"\n",
    "pwd_final = \"\"\n",
    "\n",
    "for data in packet:\n",
    "    if TCP in data:\n",
    "        if data.haslayer(Raw):\n",
    "            if data[TCP].dport == 23 or data[TCP].sport == 23: #23 port telnet\n",
    "                decode_data = str(data[Raw].load)\n",
    "                \n",
    "                #print(decode_data)\n",
    "                #print(decode_data.find('Password'))\n",
    "                \n",
    "                \n",
    "                if \"login:\" in decode_data:\n",
    "                    login = 1\n",
    "                    \n",
    "                if \"Password:\" in decode_data:\n",
    "                    password = 1\n",
    "                    \n",
    "                if \"\\\\x00\" in decode_data:\n",
    "                    login = 0\n",
    "                    password = 0\n",
    "                    \n",
    "                if login == 1 and data[TCP].dport == 23:\n",
    "                    login_final = login_final + str(decode_data[-2]) \n",
    "                    \n",
    "                if password == 1 and data[TCP].dport == 23:\n",
    "                    pwd_final = pwd_final + str(decode_data[-2])\n",
    "            \n",
    "print(\"Login :\",login_final)\n",
    "print(\"Password :\",pwd_final)\n"
   ]
  },
  {
   "cell_type": "code",
   "execution_count": 17,
   "id": "45c98fe2-3b02-48ed-b2ca-73d7b5e937b0",
   "metadata": {},
   "outputs": [
    {
     "name": "stdout",
     "output_type": "stream",
     "text": [
      "login : donald\n",
      "password : P0utine \n",
      "\n",
      "login : donald\n",
      "password : P0tine \n",
      "\n"
     ]
    }
   ],
   "source": [
    "from scapy.all import *\n",
    "import base64\n",
    "\n",
    "pcap_file = 'www-total.pcapng'\n",
    "packet = rdpcap(pcap_file)\n",
    "\n",
    "tab = []\n",
    "\n",
    "for data in packet:\n",
    "    if TCP in data:\n",
    "        if data.haslayer(Raw):\n",
    "            if data[TCP].dport == 80:\n",
    "                decode_data = str(data[Raw].load)\n",
    "\n",
    "                if 'Basic' in decode_data and data[TCP].dport == 80: #port http\n",
    "                    # Extraire la partie après 'Basic '\n",
    "                    basic = decode_data.split(\"Basic \")[1]\n",
    "                    # Supprimer les espaces blancs autour et les caractères de fin de ligne\n",
    "                    a_decoder = basic.strip()\n",
    "                    #print(f\"A décoder : {a_decoder}\")\n",
    "\n",
    "                \n",
    "                    # Décoder en Base64\n",
    "                    byte = base64.b64decode(a_decoder)\n",
    "\n",
    "                    dstr = byte.decode('utf-8')\n",
    "\n",
    "                    tab.append(dstr)\n",
    "\n",
    "tab_no_db = list(set(tab))\n",
    "for elt in tab_no_db:\n",
    "    login_mdp = elt.split(\":\")\n",
    "    print('login :',login_mdp[0])\n",
    "    print('password :',login_mdp[1], '\\n')\n",
    "\n",
    "    \n",
    "                    \n",
    "                    "
   ]
  },
  {
   "cell_type": "code",
   "execution_count": null,
   "id": "42b6f342-6a1d-4cfc-a89a-4e2987d7b8e2",
   "metadata": {},
   "outputs": [],
   "source": []
  }
 ],
 "metadata": {
  "kernelspec": {
   "display_name": "Python 3 (ipykernel)",
   "language": "python",
   "name": "python3"
  },
  "language_info": {
   "codemirror_mode": {
    "name": "ipython",
    "version": 3
   },
   "file_extension": ".py",
   "mimetype": "text/x-python",
   "name": "python",
   "nbconvert_exporter": "python",
   "pygments_lexer": "ipython3",
   "version": "3.12.3"
  }
 },
 "nbformat": 4,
 "nbformat_minor": 5
}
