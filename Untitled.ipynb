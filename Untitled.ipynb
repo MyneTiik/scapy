{
 "cells": [
  {
   "cell_type": "markdown",
   "id": "911b3a77-1905-4d00-be5d-4a96a5584c48",
   "metadata": {},
   "source": [
    "# SAE 24\n",
    "\n",
    "Ce SAE est une prise en main de scapy, une bibliotheque python. Cela nous permet donc d'appliquer la théorie vu en cours avec les trames/paquets etc."
   ]
  },
  {
   "cell_type": "code",
   "execution_count": 13,
   "id": "7c673dd8-d4fc-426e-b09f-25e348031c2f",
   "metadata": {
    "scrolled": true
   },
   "outputs": [
    {
     "name": "stdout",
     "output_type": "stream",
     "text": [
      "version    : BitField  (4 bits)                  = ('4')\n",
      "ihl        : BitField  (4 bits)                  = ('None')\n",
      "tos        : XByteField                          = ('0')\n",
      "len        : ShortField                          = ('None')\n",
      "id         : ShortField                          = ('1')\n",
      "flags      : FlagsField                          = ('<Flag 0 ()>')\n",
      "frag       : BitField  (13 bits)                 = ('0')\n",
      "ttl        : ByteField                           = ('64')\n",
      "proto      : ByteEnumField                       = ('0')\n",
      "chksum     : XShortField                         = ('None')\n",
      "src        : SourceIPField                       = ('None')\n",
      "dst        : DestIPField                         = ('None')\n",
      "options    : PacketListField                     = ('[]')\n"
     ]
    }
   ],
   "source": [
    "ls(IP)\n",
    "#affiche les champs IP"
   ]
  },
  {
   "cell_type": "code",
   "execution_count": 14,
   "id": "c609ab26-8be0-43ae-9e6a-a1d8c3ec0c8f",
   "metadata": {},
   "outputs": [
    {
     "name": "stdout",
     "output_type": "stream",
     "text": [
      "IP / UDP 127.0.0.1:domain > 127.0.0.1:domain \n",
      "\n",
      "###[ IP ]### \n",
      "  version   = 4\n",
      "  ihl       = None\n",
      "  tos       = 0x0\n",
      "  len       = None\n",
      "  id        = 1\n",
      "  flags     = \n",
      "  frag      = 0\n",
      "  ttl       = 64\n",
      "  proto     = udp\n",
      "  chksum    = None\n",
      "  src       = 127.0.0.1\n",
      "  dst       = 127.0.0.1\n",
      "  \\options   \\\n",
      "###[ UDP ]### \n",
      "     sport     = domain\n",
      "     dport     = domain\n",
      "     len       = None\n",
      "     chksum    = None\n",
      "\n"
     ]
    }
   ],
   "source": [
    "paquet1=IP()/UDP() #Fabrique un paquet avec les couches IP et UDP\n",
    "print(paquet1.summary(),\"\\n\") #affichage du paquet mais la version raccourcie\n",
    "\n",
    "paquet1.show() #paquet entier/détaillé"
   ]
  },
  {
   "cell_type": "code",
   "execution_count": 15,
   "id": "07b45692-5873-4de1-aa81-cc1604654a85",
   "metadata": {},
   "outputs": [
    {
     "name": "stdout",
     "output_type": "stream",
     "text": [
      "###[ IP ]### \n",
      "  version   = 4\n",
      "  ihl       = None\n",
      "  tos       = 0x0\n",
      "  len       = None\n",
      "  id        = 1\n",
      "  flags     = \n",
      "  frag      = 0\n",
      "  ttl       = 64\n",
      "  proto     = udp\n",
      "  chksum    = None\n",
      "  src       = 192.168.1.1\n",
      "  dst       = 192.168.1.254\n",
      "  \\options   \\\n",
      "###[ UDP ]### \n",
      "     sport     = domain\n",
      "     dport     = domain\n",
      "     len       = None\n",
      "     chksum    = None\n",
      "\n",
      "###[ IP ]### \n",
      "  version   = 4\n",
      "  ihl       = 5\n",
      "  tos       = 0x0\n",
      "  len       = 28\n",
      "  id        = 1\n",
      "  flags     = \n",
      "  frag      = 0\n",
      "  ttl       = 64\n",
      "  proto     = udp\n",
      "  chksum    = 0xf680\n",
      "  src       = 192.168.1.1\n",
      "  dst       = 192.168.1.254\n",
      "  \\options   \\\n",
      "###[ UDP ]### \n",
      "     sport     = domain\n",
      "     dport     = domain\n",
      "     len       = 8\n",
      "     chksum    = 0x7b24\n",
      "\n"
     ]
    }
   ],
   "source": [
    "IPs='192.168.1.1'\n",
    "IPd='192.168.1.254'\n",
    "paquet2=IP(src=IPs, dst=IPd)/UDP() #On définie les ips destination et source pour le paquet\n",
    "paquet2.show()\n",
    "paquet2.show2()"
   ]
  },
  {
   "cell_type": "code",
   "execution_count": 16,
   "id": "14b44456-ac24-4d08-b493-a1b1e8ef43b9",
   "metadata": {},
   "outputs": [
    {
     "name": "stdout",
     "output_type": "stream",
     "text": [
      "###[ Ethernet ]### \n",
      "  dst       = 00:0A:1F:3B:4E:64\n",
      "  src       = 11:22:33:44:55:66\n",
      "  type      = IPv4\n",
      "###[ IP ]### \n",
      "     version   = 4\n",
      "     ihl       = None\n",
      "     tos       = 0x0\n",
      "     len       = None\n",
      "     id        = 1\n",
      "     flags     = \n",
      "     frag      = 0\n",
      "     ttl       = 64\n",
      "     proto     = tcp\n",
      "     chksum    = None\n",
      "     src       = 192.168.1.1\n",
      "     dst       = Net(\"www.univ-pau.fr/32\")\n",
      "     \\options   \\\n",
      "###[ TCP ]### \n",
      "        sport     = ftp_data\n",
      "        dport     = www_http\n",
      "        seq       = 0\n",
      "        ack       = 0\n",
      "        dataofs   = None\n",
      "        reserved  = 0\n",
      "        flags     = SA\n",
      "        window    = 8192\n",
      "        chksum    = None\n",
      "        urgptr    = 0\n",
      "        options   = ''\n",
      "###[ Raw ]### \n",
      "           load      = 'C est vraiment bien Scapy'\n",
      "\n",
      "###[ Ethernet ]### \n",
      "  dst       = 00:0a:1f:3b:4e:64\n",
      "  src       = 11:22:33:44:55:66\n",
      "  type      = IPv4\n",
      "###[ IP ]### \n",
      "     version   = 4\n",
      "     ihl       = 5\n",
      "     tos       = 0x0\n",
      "     len       = 65\n",
      "     id        = 1\n",
      "     flags     = \n",
      "     frag      = 0\n",
      "     ttl       = 64\n",
      "     proto     = tcp\n",
      "     chksum    = 0x59de\n",
      "     src       = 192.168.1.1\n",
      "     dst       = 194.167.156.135\n",
      "     \\options   \\\n",
      "###[ TCP ]### \n",
      "        sport     = ftp_data\n",
      "        dport     = www_http\n",
      "        seq       = 0\n",
      "        ack       = 0\n",
      "        dataofs   = 5\n",
      "        reserved  = 0\n",
      "        flags     = SA\n",
      "        window    = 8192\n",
      "        chksum    = 0x7857\n",
      "        urgptr    = 0\n",
      "        options   = []\n",
      "###[ Raw ]### \n",
      "           load      = 'C est vraiment bien Scapy'\n",
      "\n"
     ]
    }
   ],
   "source": [
    "MACs='11:22:33:44:55:66'\n",
    "MACd='00:0A:1F:3B:4E:64'\n",
    "IPs='192.168.1.1'\n",
    "IPd='www.univ-pau.fr'\n",
    "frm=Ether(src=MACs, dst=MACd)/IP(src=IPs, dst=IPd)/TCP(flags='SA')/\"C est vraiment bien Scapy\" #on ajoute des infos, mac s, mac d, ips et meme de la donnée\n",
    "frm.show()\n",
    "frm.show2()"
   ]
  },
  {
   "cell_type": "code",
   "execution_count": 3,
   "id": "01b0d10d-99a4-4d8f-91fb-a01aaa81150f",
   "metadata": {},
   "outputs": [
    {
     "name": "stdout",
     "output_type": "stream",
     "text": [
      "\n",
      "Sent 1 packets.\n",
      "."
     ]
    }
   ],
   "source": [
    "from scapy.all import *\n",
    "\n",
    "ping=IP(dst='10.2.12.4')/ICMP()/\"On peut ajouter ici des données à émettre avec le ping\"\n",
    "\n",
    "send(ping) #on envoie le paquet, il faut définir une interface pour que ça marche"
   ]
  },
  {
   "cell_type": "code",
   "execution_count": 4,
   "id": "09b08257-3973-47da-a106-2d946a6d3d76",
   "metadata": {},
   "outputs": [
    {
     "name": "stdout",
     "output_type": "stream",
     "text": [
      "fail 1: IP / ICMP 192.168.1.164 > 10.2.12.4 echo-request 0 / Raw\n",
      "fail 1: IP / ICMP 192.168.1.164 > 10.2.12.4 echo-request 0 / Raw\n",
      "fail 1: IP / ICMP 192.168.1.164 > 10.2.12.4 echo-request 0 / Raw\n",
      "fail 1: IP / ICMP 192.168.1.164 > 10.2.12.4 echo-request 0 / Raw\n",
      "fail 1: IP / ICMP 192.168.1.164 > 10.2.12.4 echo-request 0 / Raw\n",
      "fail 1: IP / ICMP 192.168.1.164 > 10.2.12.4 echo-request 0 / Raw\n",
      "fail 1: IP / ICMP 192.168.1.164 > 10.2.12.4 echo-request 0 / Raw\n",
      "fail 1: IP / ICMP 192.168.1.164 > 10.2.12.4 echo-request 0 / Raw\n",
      "fail 1: IP / ICMP 192.168.1.164 > 10.2.12.4 echo-request 0 / Raw\n",
      "fail 1: IP / ICMP 192.168.1.164 > 10.2.12.4 echo-request 0 / Raw\n",
      "        \n",
      "Sent 10 packets, received 0 packets. 0.0% hits.\n"
     ]
    }
   ],
   "source": [
    "from scapy.all import *\n",
    "\n",
    "ping=IP(dst='10.2.12.4')/ICMP()/\"On peut ajouter ici des données à émettre avec le ping\"\n",
    "ok, nonok = srloop(ping, count=10, inter=1) #pour faire looper"
   ]
  },
  {
   "cell_type": "code",
   "execution_count": null,
   "id": "a2661831-4cfa-4884-8d92-77a6abf54ed2",
   "metadata": {},
   "outputs": [],
   "source": [
    "#IPV6\n",
    "from scapy.all import *\n",
    "\n",
    "ICMP_types={ 0 : 'Echo-Reply', 3 : 'Destination Unreachable', 8 : 'Echo'}\n",
    "\n",
    "def print_icmp (packet) :\n",
    "    type=packet[ICMP].type\n",
    "    ips=packet[IP].src\n",
    "    ipd=packet[IP].dst\n",
    "    if ips==iface_ip :\n",
    "        print(f\"Emission d'un paquet ICMP {ICMP_types[type]} vers {ipd}\")\n",
    "    else :\n",
    "        print(f\"Réception d'un paquet ICMP {ICMP_types[type]} en provenance de {ips}\")\n",
    "        \n",
    "iface_ip=get_if_addr(conf.iface) #defini interface de manière auto\n",
    "sniff(filter=\"icmp\", prn=print_icmp, store=0, iface='en0', count=4) #lance un sniff en temps réel, utilise la fonction ci dessus pour l'affichage"
   ]
  },
  {
   "cell_type": "code",
   "execution_count": 9,
   "id": "2ce3fff4-7a6c-46c5-900d-0b087989ba46",
   "metadata": {},
   "outputs": [
    {
     "name": "stdout",
     "output_type": "stream",
     "text": [
      "On commence le 'sniffing' sur la carte wlp0s20f3:\n",
      "\n",
      "\n",
      "Ether / ARP who has 192.168.1.164 says 192.168.1.254 / Padding\n",
      "Ether / ARP is at d4:e9:8a:ad:58:b3 says 192.168.1.164\n",
      "Ether / ARP who has 192.168.1.254 says 0.0.0.0 / Padding\n",
      "Ether / ARP who has 192.168.1.254 says 0.0.0.0 / Padding\n"
     ]
    },
    {
     "data": {
      "text/plain": [
       "<Sniffed: TCP:0 UDP:0 ICMP:0 Other:0>"
      ]
     },
     "execution_count": 9,
     "metadata": {},
     "output_type": "execute_result"
    }
   ],
   "source": [
    "#IPV4\n",
    "from scapy.all import*\n",
    "\n",
    "\n",
    "ARP_operation={ 1 : 'ARP-Request', 2 : 'ARP-Reply'}\n",
    "\n",
    "def print_icmpv4 (trame) :\n",
    "   print(trame.summary())\n",
    "   op = trame[ARP].op\n",
    "   if (op==1 or op==2):\n",
    "       print(f\"TYPE PACKET ARP: {ARP_operation[op]}\")\n",
    "       print(f\"Ethernet: MAC Source: {trame[0].src}\")\n",
    "       print(f\"Ethernet: MAC Destination : {trame[0].dst}\")\n",
    "       print (\"\\n\")\n",
    "   else:\n",
    "       print(f\"Ethernet: MAC Source: {trame[0].src}\")\n",
    "       print(f\"Ethernet: MAC Destination : {trame[0].dst}\")\n",
    "       print(f\"IPv4 : IP Source: {trame[1].src}\")\n",
    "       print(f\"IPv4 : IP Destination: {trame[1].dst}\")\n",
    "       print (\"\\n\")\n",
    "\n",
    "\n",
    "carte=conf.iface\n",
    "\n",
    "\n",
    "print(f\"On commence le 'sniffing' sur la carte {carte}:\")\n",
    "print(\"\\n\")\n",
    "sniff(filter=\"arp\", prn=lambda x:x.summary(), store=0, iface=carte, count=4)"
   ]
  },
  {
   "attachments": {
    "9b8f1d0e-3aac-47a6-b11c-124a455f7951.png": {
     "image/png": "[encoded data removed]"
    }
   },
   "cell_type": "markdown",
   "id": "f55f8a40-a86b-458b-a4a8-1e7d707a137c",
   "metadata": {},
   "source": [
    "# Liste des ports pour pouvoir filtrer\n",
    "\n",
    "![image.png](attachment:9b8f1d0e-3aac-47a6-b11c-124a455f7951.png)"
   ]
  },
  {
   "cell_type": "markdown",
   "id": "303a78e1-0a4b-4791-a0e3-45dd0e2da542",
   "metadata": {},
   "source": [
    "## FTP \n",
    "\n",
    "FTP : les informations recherchées sont dans les couches données, ( Raw, de la forme : **USER** xxxxx et **PASS** xxxxx ) et on peut lire que c'est sur le port destination 21"
   ]
  },
  {
   "cell_type": "code",
   "execution_count": 12,
   "id": "2700924b-7d88-45d1-80f2-2963c2547067",
   "metadata": {},
   "outputs": [
    {
     "name": "stdout",
     "output_type": "stream",
     "text": [
      "User : touriste\n",
      "\n",
      "Password : 3aboqphie=3qbc!\n",
      "\n"
     ]
    }
   ],
   "source": [
    "from scapy.all import*\n",
    "pcap_file = 'ftp-total.pcapng'\n",
    "packet = rdpcap(pcap_file)\n",
    "\n",
    "login_final = \"\"\n",
    "pwd_final = \"\"\n",
    "\n",
    "for data in packet:\n",
    "    if TCP in data:\n",
    "        if data.haslayer(Raw):\n",
    "            if data[TCP].dport == 21: #port des communications ftp\n",
    "                decode_data = str(data[Raw].load.decode('UTF8'))\n",
    "                \n",
    "                #print(decode_data)\n",
    "                #print(decode_data.find('Password'))\n",
    "                \n",
    "                \n",
    "                if \"USER\" in decode_data:\n",
    "                    val = decode_data.split(\" \")\n",
    "                    login_final = val[1]\n",
    "                    \n",
    "                if \"PASS\" in decode_data:\n",
    "                    val_pass = decode_data.split(\" \")\n",
    "                    pwd_final = val_pass[1]\n",
    "\n",
    "\n",
    "print(\"User :\",login_final)\n",
    "print(\"Password :\",pwd_final)\n"
   ]
  },
  {
   "cell_type": "markdown",
   "id": "df450fc0-6940-4c6b-b7e6-794b03b18280",
   "metadata": {},
   "source": [
    "## TELNET\n",
    "\n",
    "TELNET : les informations recherchées sont dans les couches données, (après le login chaque caractère de l'utilisateur est envoyé un à un, idem pour le password) et on peut lire que c'est sur le port destination 23"
   ]
  },
  {
   "cell_type": "code",
   "execution_count": 8,
   "id": "34a113ef-4f4e-4f12-8a64-9c50d782ab76",
   "metadata": {},
   "outputs": [
    {
     "name": "stdout",
     "output_type": "stream",
     "text": [
      "b'\\xff\\xfd\\x03\\xff\\xfb\\x18\\xff\\xfb\\x1f\\xff\\xfb \\xff\\xfb!\\xff\\xfb\"\\xff\\xfb\\'\\xff\\xfd\\x05\\xff\\xfb#'\n",
      "b\"\\xff\\xfd\\x18\\xff\\xfd \\xff\\xfd#\\xff\\xfd'\"\n",
      "b'\\xff\\xfb\\x03\\xff\\xfd\\x1f\\xff\\xfd!\\xff\\xfe\"\\xff\\xfb\\x05\\xff\\xfa \\x01\\xff\\xf0\\xff\\xfa#\\x01\\xff\\xf0\\xff\\xfa\\'\\x01\\xff\\xf0\\xff\\xfa\\x18\\x01\\xff\\xf0'\n",
      "b\"\\xff\\xfa\\x1f\\x00P\\x00\\x18\\xff\\xf0\\xff\\xfa \\x0038400,38400\\xff\\xf0\\xff\\xfa#\\x00JJ-BURO:1\\xff\\xf0\\xff\\xfa'\\x00\\x00DISPLAY\\x01JJ-BURO:1\\xff\\xf0\\xff\\xfa\\x18\\x00xterm-256color\\xff\\xf0\"\n",
      "b'\\xff\\xfd\\x01'\n",
      "b'\\xff\\xfc\\x01'\n",
      "b'\\xff\\xfb\\x01'\n",
      "b'\\xff\\xfd\\x01'\n",
      "b'Ubuntu 16.04.6 LTS\\r\\n'\n",
      "b'734cc26aaf98 login: '\n",
      "b'm'\n",
      "b'm'\n",
      "b'a'\n",
      "b'a'\n",
      "b'r'\n",
      "b'r'\n",
      "b'i'\n",
      "b'i'\n",
      "b'e'\n",
      "b'e'\n",
      "b'\\r\\x00'\n",
      "b'\\r\\n'\n",
      "b'Password: '\n",
      "b'p'\n",
      "b'o'\n",
      "b'p'\n",
      "b'p'\n",
      "b'i'\n",
      "b'n'\n",
      "b's'\n",
      "b'\\r\\x00'\n",
      "b'\\r\\n'\n",
      "b'Last login: Wed Mar 23 12:17:37 UTC 2022 from rt-jjb-003.univ-pau.fr on pts/0\\r\\n'\n",
      "b'Welcome to Ubuntu 16.04.6 LTS (GNU/Linux 4.15.0-163-generic x86_64)\\r\\n\\r\\n * Documentation:  https://help.ubuntu.com\\r\\n * Management:     https://landscape.canonical.com\\r\\n * Support:        https://ubuntu.com/advantage\\r\\n'\n",
      "b'\\x1b]0;marie@734cc26aaf98: ~\\x07\\x1b[01;32mmarie@734cc26aaf98\\x1b[00m:\\x1b[01;34m~\\x1b[00m$ '\n",
      "b'\\r\\x00'\n",
      "b'\\r\\n'\n",
      "b'\\x1b]0;marie@734cc26aaf98: ~\\x07\\x1b[01;32mmarie@734cc26aaf98\\x1b[00m:\\x1b[01;34m~\\x1b[00m$ '\n",
      "b'\\r\\x00'\n",
      "b'\\r\\n'\n",
      "b'\\x1b]0;marie@734cc26aaf98: ~\\x07\\x1b[01;32mmarie@734cc26aaf98\\x1b[00m:\\x1b[01;34m~\\x1b[00m$ '\n",
      "b'l'\n",
      "b'l'\n",
      "b's'\n",
      "b's'\n",
      "b' '\n",
      "b' '\n",
      "b'-'\n",
      "b'-'\n",
      "b'a'\n",
      "b'a'\n",
      "b'l'\n",
      "b'l'\n",
      "b'\\r\\x00'\n",
      "b'\\r\\n'\n",
      "b'total 44\\r\\n'\n",
      "b'drwxr-xr-x 1 marie marie 4096 Mar 23 12:18 \\x1b[0m\\x1b[01;34m.\\x1b[0m\\r\\ndrwxr-xr-x 1 root  root  4096 Apr 16  2019 \\x1b[01;34m..\\x1b[0m\\r\\n-rw------- 1 marie marie  242 Mar 23 12:19 .bash_history\\r\\n-rw-r--r-- 1 marie marie  220 Aug 31  2015 .bash_logout\\r\\n-rw-r--r-- 1 marie marie 3771 Aug 31  2015 .bashrc\\r\\ndrwx------ 2 marie marie 4096 Jun  3  2020 \\x1b[01;34m.cache\\x1b[0m\\r\\n-rw-r--r-- 1 marie marie  655 May 16  2017 .profile\\r\\n-rw-rw-r-- 1 marie marie   43 Mar 23 12:19 titi\\r\\n'\n",
      "b'-rw-rw-r-- 1 marie marie   38 Mar 23 12:18 toto\\r\\n-rw-rw-r-- 1 marie marie   30 Mar 23 12:19 tutu\\r\\n'\n",
      "b'\\x1b]0;marie@734cc26aaf98: ~\\x07\\x1b[01;32mmarie@734cc26aaf98\\x1b[00m:\\x1b[01;34m~\\x1b[00m$ '\n",
      "b'c'\n",
      "b'c'\n",
      "b'a'\n",
      "b'a'\n",
      "b't'\n",
      "b't'\n",
      "b' '\n",
      "b' '\n",
      "b't'\n",
      "b't'\n",
      "b'o'\n",
      "b'o'\n",
      "b't'\n",
      "b't'\n",
      "b'o'\n",
      "b'o'\n",
      "b'\\r\\x00'\n",
      "b'\\r\\n'\n",
      "b'ceci est un fichier indispensable ...\\r\\n'\n",
      "b'\\x1b]0;marie@734cc26aaf98: ~\\x07\\x1b[01;32mmarie@734cc26aaf98\\x1b[00m:\\x1b[01;34m~\\x1b[00m$ '\n",
      "b'e'\n",
      "b'e'\n",
      "b'x'\n",
      "b'x'\n",
      "b'i'\n",
      "b'i'\n",
      "b't'\n",
      "b't'\n",
      "b'\\r\\x00'\n",
      "b'\\r\\n'\n",
      "b'logout\\r\\n'\n",
      "Login : marie\n",
      "Password : poppins\n"
     ]
    }
   ],
   "source": [
    "from scapy.all import*\n",
    "pcap_file = 'telnet-total.pcapng'\n",
    "packet = rdpcap(pcap_file)\n",
    "\n",
    "\n",
    "#flags permettant de demarrer/stopper le recherche\n",
    "login = 0\n",
    "password = 0\n",
    "\n",
    "login_final = \"\"\n",
    "pwd_final = \"\"\n",
    "\n",
    "for data in packet:\n",
    "    if TCP in data:\n",
    "        if data.haslayer(Raw):\n",
    "            if data[TCP].dport == 23 or data[TCP].sport == 23: #23 port telnet\n",
    "                decode_data = str(data[Raw].load)\n",
    "                \n",
    "                #print(decode_data)\n",
    "                #print(decode_data.find('Password'))\n",
    "                \n",
    "                \n",
    "                if \"login:\" in decode_data:\n",
    "                    login = 1\n",
    "                    \n",
    "                if \"Password:\" in decode_data:\n",
    "                    password = 1\n",
    "                    \n",
    "                if \"\\\\x00\" in decode_data:\n",
    "                    login = 0\n",
    "                    password = 0\n",
    "                    \n",
    "                if login == 1 and data[TCP].dport == 23:\n",
    "                    login_final = login_final + str(decode_data[-2]) \n",
    "                    \n",
    "                if password == 1 and data[TCP].dport == 23:\n",
    "                    pwd_final = pwd_final + str(decode_data[-2])\n",
    "            \n",
    "print(\"Login :\",login_final)\n",
    "print(\"Password :\",pwd_final)\n"
   ]
  },
  {
   "cell_type": "markdown",
   "id": "20564b22-663e-41c8-b959-864ae9fd8c55",
   "metadata": {},
   "source": [
    "## HTTP\n",
    "\n",
    "HTTP : les informations recherchées sont dans les couches données, (après récupération du login/mdp il faut le déchiffrer avec la bibliothèque base64) et on peut lire que c'est sur le port destination 80"
   ]
  },
  {
   "cell_type": "code",
   "execution_count": 17,
   "id": "45c98fe2-3b02-48ed-b2ca-73d7b5e937b0",
   "metadata": {},
   "outputs": [
    {
     "name": "stdout",
     "output_type": "stream",
     "text": [
      "login : donald\n",
      "password : P0utine \n",
      "\n",
      "login : donald\n",
      "password : P0tine \n",
      "\n"
     ]
    }
   ],
   "source": [
    "from scapy.all import *\n",
    "import base64\n",
    "\n",
    "pcap_file = 'www-total.pcapng'\n",
    "packet = rdpcap(pcap_file)\n",
    "\n",
    "tab = []\n",
    "\n",
    "for data in packet:\n",
    "    if TCP in data:\n",
    "        if data.haslayer(Raw):\n",
    "            if data[TCP].dport == 80:\n",
    "                decode_data = str(data[Raw].load)\n",
    "\n",
    "                if 'Basic' in decode_data and data[TCP].dport == 80: #port http\n",
    "                    # Extraire la partie après 'Basic '\n",
    "                    basic = decode_data.split(\"Basic \")[1]\n",
    "                    # Supprimer les espaces blancs autour et les caractères de fin de ligne\n",
    "                    a_decoder = basic.strip()\n",
    "                    #print(f\"A décoder : {a_decoder}\")\n",
    "\n",
    "                \n",
    "                    # Décoder en Base64\n",
    "                    byte = base64.b64decode(a_decoder)\n",
    "\n",
    "                    dstr = byte.decode('utf-8')\n",
    "\n",
    "                    tab.append(dstr)\n",
    "\n",
    "tab_no_db = list(set(tab))\n",
    "for elt in tab_no_db:\n",
    "    login_mdp = elt.split(\":\")\n",
    "    print('login :',login_mdp[0])\n",
    "    print('password :',login_mdp[1], '\\n')\n",
    "\n",
    "    \n",
    "                    \n",
    "                    "
   ]
  },
  {
   "cell_type": "markdown",
   "id": "2eed03a3-e3ca-4f89-9850-54344fa05e60",
   "metadata": {},
   "source": [
    "## Méthode pour execice type\n",
    "\n",
    "1. Avec le fichier Wireshark identifier le protocole.\n",
    "2. Une fois fait regarder quel port lui est associé.\n",
    "3. Ensuite on construit note code en suivant les deux premiers points.\n",
    "4. On s'occupe des chaines de caractère pour n'avoir que ce qui nous intéresse.\n",
    "5. Si besoins on rajoute des bibliothèques python pour pouvoir déchiffrer."
   ]
  }
 ],
 "metadata": {
  "kernelspec": {
   "display_name": "Python 3 (ipykernel)",
   "language": "python",
   "name": "python3"
  },
  "language_info": {
   "codemirror_mode": {
    "name": "ipython",
    "version": 3
   },
   "file_extension": ".py",
   "mimetype": "text/x-python",
   "name": "python",
   "nbconvert_exporter": "python",
   "pygments_lexer": "ipython3",
   "version": "3.12.3"
  }
 },
 "nbformat": 4,
 "nbformat_minor": 5
}
